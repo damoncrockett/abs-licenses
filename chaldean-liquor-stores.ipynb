{
 "cells": [
  {
   "cell_type": "code",
   "execution_count": 1,
   "metadata": {
    "collapsed": true
   },
   "outputs": [],
   "source": [
    "import pandas as pd"
   ]
  },
  {
   "cell_type": "code",
   "execution_count": 2,
   "metadata": {
    "collapsed": true
   },
   "outputs": [],
   "source": [
    "d = pd.read_csv('/Users/damoncrockett/Dropbox/thinkpad_home/SDRDL/abs-licenses/abs-licenses-casnd_VOSD.csv')"
   ]
  },
  {
   "cell_type": "code",
   "execution_count": 3,
   "metadata": {
    "collapsed": true
   },
   "outputs": [],
   "source": [
    "from dateutil import parser"
   ]
  },
  {
   "cell_type": "code",
   "execution_count": 4,
   "metadata": {
    "collapsed": false
   },
   "outputs": [],
   "source": [
    "d.issuedate = d.issuedate.apply(parser.parse)"
   ]
  },
  {
   "cell_type": "code",
   "execution_count": 5,
   "metadata": {
    "collapsed": false
   },
   "outputs": [
    {
     "data": {
      "text/plain": [
       "Timestamp('2013-07-05 00:00:00')"
      ]
     },
     "execution_count": 5,
     "metadata": {},
     "output_type": "execute_result"
    }
   ],
   "source": [
    "d.issuedate.max()"
   ]
  },
  {
   "cell_type": "code",
   "execution_count": 6,
   "metadata": {
    "collapsed": false
   },
   "outputs": [
    {
     "data": {
      "text/plain": [
       "Index([u'licenseno', u'status', u'licensetype', u'issuedate', u'exprdate', u'owner', u'premisesaddress', u'lon', u'lat', u'x', u'y', u'city', u'neighborhood', u'community', u'council', u'tract', u'business'], dtype='object')"
      ]
     },
     "execution_count": 6,
     "metadata": {},
     "output_type": "execute_result"
    }
   ],
   "source": [
    "d.columns"
   ]
  },
  {
   "cell_type": "code",
   "execution_count": 7,
   "metadata": {
    "collapsed": true
   },
   "outputs": [],
   "source": [
    "osg = d[d.licensetype == 21]"
   ]
  },
  {
   "cell_type": "code",
   "execution_count": 8,
   "metadata": {
    "collapsed": false
   },
   "outputs": [
    {
     "data": {
      "text/plain": [
       "884"
      ]
     },
     "execution_count": 8,
     "metadata": {},
     "output_type": "execute_result"
    }
   ],
   "source": [
    "len(osg.index)"
   ]
  },
  {
   "cell_type": "code",
   "execution_count": 9,
   "metadata": {
    "collapsed": false
   },
   "outputs": [
    {
     "data": {
      "text/plain": [
       "NONE      865\n",
       "SanTRL      1\n",
       "SanLIT      1\n",
       "SanMSB      1\n",
       "SanLIN      1\n",
       "SanSNS      1\n",
       "SanCLN      1\n",
       "SanHAR      1\n",
       "SanMIA      1\n",
       "SanMON      1\n",
       "SanISL      1\n",
       "SanFOX      1\n",
       "SanRAN      1\n",
       "SanSAN      1\n",
       "SanLAK      1\n",
       "SanPAL      1\n",
       "SanBOR      1\n",
       "SanBIR      1\n",
       "SanSSI      1\n",
       "SanMOR      1\n",
       "dtype: int64"
      ]
     },
     "execution_count": 9,
     "metadata": {},
     "output_type": "execute_result"
    }
   ],
   "source": [
    "osg.neighborhood.value_counts()"
   ]
  },
  {
   "cell_type": "code",
   "execution_count": 10,
   "metadata": {
    "collapsed": false
   },
   "outputs": [
    {
     "data": {
      "text/plain": [
       "NONE      877\n",
       "SndCHU      1\n",
       "SndDEL      1\n",
       "SndELC      1\n",
       "SndCAR      1\n",
       "SndESC      1\n",
       "SndOCN      1\n",
       "SndSNM      1\n",
       "dtype: int64"
      ]
     },
     "execution_count": 10,
     "metadata": {},
     "output_type": "execute_result"
    }
   ],
   "source": [
    "osg.city.value_counts()"
   ]
  },
  {
   "cell_type": "code",
   "execution_count": 11,
   "metadata": {
    "collapsed": false
   },
   "outputs": [
    {
     "data": {
      "text/plain": [
       "NONE      872\n",
       "SanDEL      1\n",
       "SanGRT      1\n",
       "SanOLD      1\n",
       "SanMDC      1\n",
       "SanCRM      1\n",
       "SanMRM      1\n",
       "SanLAJ      1\n",
       "SanRES      1\n",
       "SanPAC      1\n",
       "SanRAN      1\n",
       "SanPEN      1\n",
       "SanMID      1\n",
       "dtype: int64"
      ]
     },
     "execution_count": 11,
     "metadata": {},
     "output_type": "execute_result"
    }
   ],
   "source": [
    "osg.community.value_counts()"
   ]
  },
  {
   "cell_type": "code",
   "execution_count": 12,
   "metadata": {
    "collapsed": false
   },
   "outputs": [
    {
     "data": {
      "text/plain": [
       "NONE      881\n",
       "San009      1\n",
       "San001      1\n",
       "San005      1\n",
       "dtype: int64"
      ]
     },
     "execution_count": 12,
     "metadata": {},
     "output_type": "execute_result"
    }
   ],
   "source": [
    "osg.council.value_counts()"
   ]
  },
  {
   "cell_type": "code",
   "execution_count": 13,
   "metadata": {
    "collapsed": false
   },
   "outputs": [
    {
     "data": {
      "text/plain": [
       "ACTIVE    865\n",
       "SUREND     19\n",
       "dtype: int64"
      ]
     },
     "execution_count": 13,
     "metadata": {},
     "output_type": "execute_result"
    }
   ],
   "source": [
    "osg.status.value_counts()"
   ]
  },
  {
   "cell_type": "code",
   "execution_count": 14,
   "metadata": {
    "collapsed": true
   },
   "outputs": [],
   "source": [
    "osg = osg[osg.status == 'ACTIVE']"
   ]
  },
  {
   "cell_type": "code",
   "execution_count": 15,
   "metadata": {
    "collapsed": false
   },
   "outputs": [
    {
     "data": {
      "text/plain": [
       "Index([u'licenseno', u'status', u'licensetype', u'issuedate', u'exprdate', u'owner', u'premisesaddress', u'lon', u'lat', u'x', u'y', u'city', u'neighborhood', u'community', u'council', u'tract', u'business'], dtype='object')"
      ]
     },
     "execution_count": 15,
     "metadata": {},
     "output_type": "execute_result"
    }
   ],
   "source": [
    "osg.columns"
   ]
  },
  {
   "cell_type": "code",
   "execution_count": 16,
   "metadata": {
    "collapsed": true
   },
   "outputs": [],
   "source": [
    "osg = osg[['licenseno','issuedate','exprdate','owner','premisesaddress','lon','lat','business']]"
   ]
  },
  {
   "cell_type": "code",
   "execution_count": 17,
   "metadata": {
    "collapsed": false
   },
   "outputs": [
    {
     "data": {
      "text/html": [
       "<div style=\"max-height:1000px;max-width:1500px;overflow:auto;\">\n",
       "<table border=\"1\" class=\"dataframe\">\n",
       "  <thead>\n",
       "    <tr style=\"text-align: right;\">\n",
       "      <th></th>\n",
       "      <th>licenseno</th>\n",
       "      <th>issuedate</th>\n",
       "      <th>exprdate</th>\n",
       "      <th>owner</th>\n",
       "      <th>premisesaddress</th>\n",
       "      <th>lon</th>\n",
       "      <th>lat</th>\n",
       "      <th>business</th>\n",
       "    </tr>\n",
       "  </thead>\n",
       "  <tbody>\n",
       "    <tr>\n",
       "      <th>2</th>\n",
       "      <td>1419</td>\n",
       "      <td>1964-08-18</td>\n",
       "      <td>2013-09-30T</td>\n",
       "      <td>A O K ENTERPRISES INC</td>\n",
       "      <td>3744 OCEAN VIEW BLVD, SAN DIEGO, CA  92113</td>\n",
       "      <td>-117.113723</td>\n",
       "      <td>32.701524</td>\n",
       "      <td>Ocean View Liquor</td>\n",
       "    </tr>\n",
       "    <tr>\n",
       "      <th>3</th>\n",
       "      <td>2498</td>\n",
       "      <td>1978-01-01</td>\n",
       "      <td>2013-08-31T</td>\n",
       "      <td>ORAM, AMIR Z</td>\n",
       "      <td>3515 UNIVERSITY AVE, SAN DIEGO, CA  92104</td>\n",
       "      <td>-117.117612</td>\n",
       "      <td>32.749524</td>\n",
       "      <td>Market Place The</td>\n",
       "    </tr>\n",
       "    <tr>\n",
       "      <th>5</th>\n",
       "      <td>4016</td>\n",
       "      <td>1971-06-17</td>\n",
       "      <td>2013-06-30T</td>\n",
       "      <td>MARCREST INC</td>\n",
       "      <td>3787 INGRAHAM ST, SAN DIEGO, CA  92109</td>\n",
       "      <td>-117.237149</td>\n",
       "      <td>32.788560</td>\n",
       "      <td>Crest</td>\n",
       "    </tr>\n",
       "    <tr>\n",
       "      <th>6</th>\n",
       "      <td>4261</td>\n",
       "      <td>1979-08-20</td>\n",
       "      <td>2014-01-31T</td>\n",
       "      <td>J C &amp; S INC</td>\n",
       "      <td>4210 MARKET ST, SAN DIEGO, CA  92102</td>\n",
       "      <td>-117.104456</td>\n",
       "      <td>32.711729</td>\n",
       "      <td>NaN</td>\n",
       "    </tr>\n",
       "    <tr>\n",
       "      <th>7</th>\n",
       "      <td>5332</td>\n",
       "      <td>1973-01-22</td>\n",
       "      <td>2014-02-28T</td>\n",
       "      <td>ATTIQ, LOUIS</td>\n",
       "      <td>110 NATIONAL CITY BLVD, NATIONAL CITY, CA  91950</td>\n",
       "      <td>-117.097562</td>\n",
       "      <td>32.651772</td>\n",
       "      <td>One Ten Liquor &amp; Market</td>\n",
       "    </tr>\n",
       "  </tbody>\n",
       "</table>\n",
       "</div>"
      ],
      "text/plain": [
       "   licenseno  issuedate     exprdate                  owner  \\\n",
       "2       1419 1964-08-18  2013-09-30T  A O K ENTERPRISES INC   \n",
       "3       2498 1978-01-01  2013-08-31T           ORAM, AMIR Z   \n",
       "5       4016 1971-06-17  2013-06-30T           MARCREST INC   \n",
       "6       4261 1979-08-20  2014-01-31T            J C & S INC   \n",
       "7       5332 1973-01-22  2014-02-28T           ATTIQ, LOUIS   \n",
       "\n",
       "                                    premisesaddress         lon        lat  \\\n",
       "2        3744 OCEAN VIEW BLVD, SAN DIEGO, CA  92113 -117.113723  32.701524   \n",
       "3         3515 UNIVERSITY AVE, SAN DIEGO, CA  92104 -117.117612  32.749524   \n",
       "5            3787 INGRAHAM ST, SAN DIEGO, CA  92109 -117.237149  32.788560   \n",
       "6              4210 MARKET ST, SAN DIEGO, CA  92102 -117.104456  32.711729   \n",
       "7  110 NATIONAL CITY BLVD, NATIONAL CITY, CA  91950 -117.097562  32.651772   \n",
       "\n",
       "                  business  \n",
       "2        Ocean View Liquor  \n",
       "3         Market Place The  \n",
       "5                    Crest  \n",
       "6                      NaN  \n",
       "7  One Ten Liquor & Market  "
      ]
     },
     "execution_count": 17,
     "metadata": {},
     "output_type": "execute_result"
    }
   ],
   "source": [
    "osg.head()"
   ]
  },
  {
   "cell_type": "code",
   "execution_count": 18,
   "metadata": {
    "collapsed": true
   },
   "outputs": [],
   "source": [
    "# check on geopandas"
   ]
  },
  {
   "cell_type": "code",
   "execution_count": 19,
   "metadata": {
    "collapsed": false
   },
   "outputs": [
    {
     "data": {
      "text/html": [
       "<div style=\"max-height:1000px;max-width:1500px;overflow:auto;\">\n",
       "<table border=\"1\" class=\"dataframe\">\n",
       "  <thead>\n",
       "    <tr style=\"text-align: right;\">\n",
       "      <th></th>\n",
       "      <th>licenseno</th>\n",
       "      <th>issuedate</th>\n",
       "      <th>exprdate</th>\n",
       "      <th>owner</th>\n",
       "      <th>premisesaddress</th>\n",
       "      <th>lon</th>\n",
       "      <th>lat</th>\n",
       "      <th>business</th>\n",
       "    </tr>\n",
       "  </thead>\n",
       "  <tbody>\n",
       "    <tr>\n",
       "      <th>220</th>\n",
       "      <td>169355</td>\n",
       "      <td>1985-04-23</td>\n",
       "      <td>2014-05-31T</td>\n",
       "      <td>DABISH, BAHJET</td>\n",
       "      <td>5102 IMPERIAL AVE, SAN DIEGO, CA  92114</td>\n",
       "      <td>-117.084662</td>\n",
       "      <td>32.705018</td>\n",
       "      <td>Green Cat Liquor</td>\n",
       "    </tr>\n",
       "    <tr>\n",
       "      <th>401</th>\n",
       "      <td>243262</td>\n",
       "      <td>1990-02-02</td>\n",
       "      <td>2014-02-28T</td>\n",
       "      <td>RABBAN, NADIR BAHO</td>\n",
       "      <td>6555 IMPERIAL AVE, SAN DIEGO, CA  92114</td>\n",
       "      <td>-117.056859</td>\n",
       "      <td>32.710379</td>\n",
       "      <td>Encanto Liquor</td>\n",
       "    </tr>\n",
       "    <tr>\n",
       "      <th>728</th>\n",
       "      <td>321420</td>\n",
       "      <td>1996-09-18</td>\n",
       "      <td>2013-04-30T</td>\n",
       "      <td>MULLENS MARKET INC</td>\n",
       "      <td>3011 IMPERIAL AVE, SAN DIEGO, CA  92102</td>\n",
       "      <td>-117.129188</td>\n",
       "      <td>32.706120</td>\n",
       "      <td>Mullens Market Inc</td>\n",
       "    </tr>\n",
       "    <tr>\n",
       "      <th>1073</th>\n",
       "      <td>357977</td>\n",
       "      <td>1999-09-07</td>\n",
       "      <td>2013-09-30T</td>\n",
       "      <td>NAJJAR, SAM ANTWAN</td>\n",
       "      <td>2289 IMPERIAL AVE, SAN DIEGO, CA  92102</td>\n",
       "      <td>-117.142734</td>\n",
       "      <td>32.706007</td>\n",
       "      <td>Bottle &amp; Basket</td>\n",
       "    </tr>\n",
       "    <tr>\n",
       "      <th>1432</th>\n",
       "      <td>388203</td>\n",
       "      <td>2002-07-29</td>\n",
       "      <td>2013-06-30T</td>\n",
       "      <td>FOOD BARGAIN MARKET INC</td>\n",
       "      <td>6251 &amp; 6261 IMPERIAL AVE, SAN DIEGO, CA  92114</td>\n",
       "      <td>-117.123424</td>\n",
       "      <td>32.706742</td>\n",
       "      <td>Food Bargain Market</td>\n",
       "    </tr>\n",
       "    <tr>\n",
       "      <th>2037</th>\n",
       "      <td>427113</td>\n",
       "      <td>2005-09-06</td>\n",
       "      <td>2013-07-31T</td>\n",
       "      <td>HOWELLS LIQUOR INC</td>\n",
       "      <td>6853 IMPERIAL AVE, SAN DIEGO, CA  92114</td>\n",
       "      <td>-117.049587</td>\n",
       "      <td>32.711559</td>\n",
       "      <td>Howells Liquor</td>\n",
       "    </tr>\n",
       "    <tr>\n",
       "      <th>4450</th>\n",
       "      <td>519510</td>\n",
       "      <td>2012-03-16</td>\n",
       "      <td>2014-03-31T</td>\n",
       "      <td>MIKHAEL, NADIA NANCY</td>\n",
       "      <td>2970 IMPERIAL AVE, SAN DIEGO, CA  92102-4126</td>\n",
       "      <td>-117.130155</td>\n",
       "      <td>32.706721</td>\n",
       "      <td>Rancho Market &amp; Liquor</td>\n",
       "    </tr>\n",
       "  </tbody>\n",
       "</table>\n",
       "</div>"
      ],
      "text/plain": [
       "      licenseno  issuedate     exprdate                    owner  \\\n",
       "220      169355 1985-04-23  2014-05-31T           DABISH, BAHJET   \n",
       "401      243262 1990-02-02  2014-02-28T       RABBAN, NADIR BAHO   \n",
       "728      321420 1996-09-18  2013-04-30T       MULLENS MARKET INC   \n",
       "1073     357977 1999-09-07  2013-09-30T       NAJJAR, SAM ANTWAN   \n",
       "1432     388203 2002-07-29  2013-06-30T  FOOD BARGAIN MARKET INC   \n",
       "2037     427113 2005-09-06  2013-07-31T       HOWELLS LIQUOR INC   \n",
       "4450     519510 2012-03-16  2014-03-31T     MIKHAEL, NADIA NANCY   \n",
       "\n",
       "                                     premisesaddress         lon        lat  \\\n",
       "220          5102 IMPERIAL AVE, SAN DIEGO, CA  92114 -117.084662  32.705018   \n",
       "401          6555 IMPERIAL AVE, SAN DIEGO, CA  92114 -117.056859  32.710379   \n",
       "728          3011 IMPERIAL AVE, SAN DIEGO, CA  92102 -117.129188  32.706120   \n",
       "1073         2289 IMPERIAL AVE, SAN DIEGO, CA  92102 -117.142734  32.706007   \n",
       "1432  6251 & 6261 IMPERIAL AVE, SAN DIEGO, CA  92114 -117.123424  32.706742   \n",
       "2037         6853 IMPERIAL AVE, SAN DIEGO, CA  92114 -117.049587  32.711559   \n",
       "4450    2970 IMPERIAL AVE, SAN DIEGO, CA  92102-4126 -117.130155  32.706721   \n",
       "\n",
       "                    business  \n",
       "220         Green Cat Liquor  \n",
       "401           Encanto Liquor  \n",
       "728       Mullens Market Inc  \n",
       "1073         Bottle & Basket  \n",
       "1432     Food Bargain Market  \n",
       "2037          Howells Liquor  \n",
       "4450  Rancho Market & Liquor  "
      ]
     },
     "execution_count": 19,
     "metadata": {},
     "output_type": "execute_result"
    }
   ],
   "source": [
    "osg[osg.premisesaddress.str.contains('IMPERIAL AVE')]"
   ]
  },
  {
   "cell_type": "code",
   "execution_count": 20,
   "metadata": {
    "collapsed": true
   },
   "outputs": [],
   "source": [
    "del osg['licenseno']"
   ]
  },
  {
   "cell_type": "code",
   "execution_count": 21,
   "metadata": {
    "collapsed": true
   },
   "outputs": [],
   "source": [
    "del osg['exprdate']"
   ]
  },
  {
   "cell_type": "code",
   "execution_count": 22,
   "metadata": {
    "collapsed": true
   },
   "outputs": [],
   "source": [
    "osg.reset_index(drop=True,inplace=True)"
   ]
  },
  {
   "cell_type": "code",
   "execution_count": 23,
   "metadata": {
    "collapsed": false
   },
   "outputs": [
    {
     "data": {
      "text/html": [
       "<div style=\"max-height:1000px;max-width:1500px;overflow:auto;\">\n",
       "<table border=\"1\" class=\"dataframe\">\n",
       "  <thead>\n",
       "    <tr style=\"text-align: right;\">\n",
       "      <th></th>\n",
       "      <th>issuedate</th>\n",
       "      <th>owner</th>\n",
       "      <th>premisesaddress</th>\n",
       "      <th>lon</th>\n",
       "      <th>lat</th>\n",
       "      <th>business</th>\n",
       "    </tr>\n",
       "  </thead>\n",
       "  <tbody>\n",
       "    <tr>\n",
       "      <th>0</th>\n",
       "      <td>1964-08-18</td>\n",
       "      <td>A O K ENTERPRISES INC</td>\n",
       "      <td>3744 OCEAN VIEW BLVD, SAN DIEGO, CA  92113</td>\n",
       "      <td>-117.113723</td>\n",
       "      <td>32.701524</td>\n",
       "      <td>Ocean View Liquor</td>\n",
       "    </tr>\n",
       "    <tr>\n",
       "      <th>1</th>\n",
       "      <td>1978-01-01</td>\n",
       "      <td>ORAM, AMIR Z</td>\n",
       "      <td>3515 UNIVERSITY AVE, SAN DIEGO, CA  92104</td>\n",
       "      <td>-117.117612</td>\n",
       "      <td>32.749524</td>\n",
       "      <td>Market Place The</td>\n",
       "    </tr>\n",
       "    <tr>\n",
       "      <th>2</th>\n",
       "      <td>1971-06-17</td>\n",
       "      <td>MARCREST INC</td>\n",
       "      <td>3787 INGRAHAM ST, SAN DIEGO, CA  92109</td>\n",
       "      <td>-117.237149</td>\n",
       "      <td>32.788560</td>\n",
       "      <td>Crest</td>\n",
       "    </tr>\n",
       "    <tr>\n",
       "      <th>3</th>\n",
       "      <td>1979-08-20</td>\n",
       "      <td>J C &amp; S INC</td>\n",
       "      <td>4210 MARKET ST, SAN DIEGO, CA  92102</td>\n",
       "      <td>-117.104456</td>\n",
       "      <td>32.711729</td>\n",
       "      <td>NaN</td>\n",
       "    </tr>\n",
       "    <tr>\n",
       "      <th>4</th>\n",
       "      <td>1973-01-22</td>\n",
       "      <td>ATTIQ, LOUIS</td>\n",
       "      <td>110 NATIONAL CITY BLVD, NATIONAL CITY, CA  91950</td>\n",
       "      <td>-117.097562</td>\n",
       "      <td>32.651772</td>\n",
       "      <td>One Ten Liquor &amp; Market</td>\n",
       "    </tr>\n",
       "  </tbody>\n",
       "</table>\n",
       "</div>"
      ],
      "text/plain": [
       "   issuedate                  owner  \\\n",
       "0 1964-08-18  A O K ENTERPRISES INC   \n",
       "1 1978-01-01           ORAM, AMIR Z   \n",
       "2 1971-06-17           MARCREST INC   \n",
       "3 1979-08-20            J C & S INC   \n",
       "4 1973-01-22           ATTIQ, LOUIS   \n",
       "\n",
       "                                    premisesaddress         lon        lat  \\\n",
       "0        3744 OCEAN VIEW BLVD, SAN DIEGO, CA  92113 -117.113723  32.701524   \n",
       "1         3515 UNIVERSITY AVE, SAN DIEGO, CA  92104 -117.117612  32.749524   \n",
       "2            3787 INGRAHAM ST, SAN DIEGO, CA  92109 -117.237149  32.788560   \n",
       "3              4210 MARKET ST, SAN DIEGO, CA  92102 -117.104456  32.711729   \n",
       "4  110 NATIONAL CITY BLVD, NATIONAL CITY, CA  91950 -117.097562  32.651772   \n",
       "\n",
       "                  business  \n",
       "0        Ocean View Liquor  \n",
       "1         Market Place The  \n",
       "2                    Crest  \n",
       "3                      NaN  \n",
       "4  One Ten Liquor & Market  "
      ]
     },
     "execution_count": 23,
     "metadata": {},
     "output_type": "execute_result"
    }
   ],
   "source": [
    "osg.head()"
   ]
  },
  {
   "cell_type": "code",
   "execution_count": 24,
   "metadata": {
    "collapsed": false
   },
   "outputs": [],
   "source": [
    "osg = osg[~osg.owner.str.contains('INC')]"
   ]
  },
  {
   "cell_type": "code",
   "execution_count": 25,
   "metadata": {
    "collapsed": false
   },
   "outputs": [
    {
     "data": {
      "text/plain": [
       "436"
      ]
     },
     "execution_count": 25,
     "metadata": {},
     "output_type": "execute_result"
    }
   ],
   "source": [
    "len(osg.index)"
   ]
  },
  {
   "cell_type": "code",
   "execution_count": 26,
   "metadata": {
    "collapsed": false
   },
   "outputs": [
    {
     "data": {
      "text/plain": [
       "GARFIELD BEACH CVS LLC            73\n",
       "RALPHS GROCERY COMPANY            24\n",
       "TRADER JOES COMPANY               12\n",
       "COSTCO WHOLESALE CORPORATION      12\n",
       "SMART & FINAL STORES LLC          12\n",
       "STATER BROS MARKETS               10\n",
       "HENRYS HOLDINGS LLC                8\n",
       "SHAO, ADEL YALDA                   8\n",
       "TARGET CORPORATION                 7\n",
       "NORTHGATE GONZALEZ LLC             6\n",
       "IBRAHIM, AMEL                      3\n",
       "MYOBZ LLC                          2\n",
       "TALIA, JAMES SALIM                 2\n",
       "ZETOUNA, BASIL GEORGE              2\n",
       "BODEGA LATINA CORPORATION          2\n",
       "HIRMEZ, BADRY                      2\n",
       "ALESHIA, NADA NAMU                 2\n",
       "BALLO, HAITHEM ISTEFAN             2\n",
       "FORTUNE COMMERCIAL CORPORATION     2\n",
       "YOUSIF, NAJIB R                    2\n",
       "KEILS FOOD STORES                  2\n",
       "RAZOOKY, MAJED ZIA                 2\n",
       "MCINERNY, MICHAEL EDWARD           2\n",
       "BAHOURA, BAHER GEORGE              2\n",
       "TOMA, WALEED O                     2\n",
       "ALESHIA, RAFD FARAJ                2\n",
       "APRO LLC                           2\n",
       "DEIKO, VICTOR TOMA                 2\n",
       "ALKATIB, ADIL                      2\n",
       "ELIAS, LUBNA ZUHAIR                1\n",
       "                                  ..\n",
       "EL NOPAL MARKET LLC                1\n",
       "ZORA, AZIZ A                       1\n",
       "BARTELL HOTELS L-PSHIP             1\n",
       "YOUNIS, SAMER  A                   1\n",
       "KEKTOMA, ZUHAIR ISSA               1\n",
       "KONJA, ROBY N                      1\n",
       "MARCUS, SABAH P                    1\n",
       "BADRANI, CHARIF MAHMOUD            1\n",
       "STEPHAN, MICHAEL ASHAK             1\n",
       "TOBYA, AMER LOOGA                  1\n",
       "SHAMOUN, HANI MICHEL               1\n",
       "WESTGATE HOTEL COMPANY             1\n",
       "SADEK, BASHAR I                    1\n",
       "ALKATIB, FADIA JOHN                1\n",
       "SHAMOON SHOREZ, BASHAR NOEL        1\n",
       "SOOD, INDU                         1\n",
       "ANSH ENTERPRISES                   1\n",
       "ALKATIB, SINAN JAMIL               1\n",
       "KIDANEMARIAM, DANIEL BERHE         1\n",
       "YOUNAN, BASIM                      1\n",
       "SIMAAN, HAZIM DAWOOD               1\n",
       "BAJOUA, FAHMI M                    1\n",
       "TRADER MORTS LLC                   1\n",
       "ABOODI, PHIL                       1\n",
       "TRAN, DAVID                        1\n",
       "EWDISH, SAAD ISTEPHAN              1\n",
       "HAMANA, FLOUNA FAHMI               1\n",
       "FIRST KOREAN MARLET LLC            1\n",
       "SOMO, SAM                          1\n",
       "YALDO, DAVID S                     1\n",
       "dtype: int64"
      ]
     },
     "execution_count": 26,
     "metadata": {},
     "output_type": "execute_result"
    }
   ],
   "source": [
    "osg.owner.value_counts()"
   ]
  },
  {
   "cell_type": "code",
   "execution_count": 27,
   "metadata": {
    "collapsed": true
   },
   "outputs": [],
   "source": [
    "osg = osg[~osg.owner.str.contains('LLC')]\n",
    "osg = osg[~osg.owner.str.contains('COMPANY')]\n",
    "osg = osg[~osg.owner.str.contains('CORPORATION')]"
   ]
  },
  {
   "cell_type": "code",
   "execution_count": 28,
   "metadata": {
    "collapsed": false
   },
   "outputs": [
    {
     "data": {
      "text/plain": [
       "STATER BROS MARKETS            10\n",
       "SHAO, ADEL YALDA                8\n",
       "IBRAHIM, AMEL                   3\n",
       "DEIKO, VICTOR TOMA              2\n",
       "KEILS FOOD STORES               2\n",
       "RAZOOKY, MAJED ZIA              2\n",
       "HIRMEZ, BADRY                   2\n",
       "TOMA, WALEED O                  2\n",
       "MCINERNY, MICHAEL EDWARD        2\n",
       "ZETOUNA, BASIL GEORGE           2\n",
       "TALIA, JAMES SALIM              2\n",
       "BAHOURA, BAHER GEORGE           2\n",
       "YOUSIF, NAJIB R                 2\n",
       "ALESHIA, RAFD FARAJ             2\n",
       "BALLO, HAITHEM ISTEFAN          2\n",
       "ALKATIB, ADIL                   2\n",
       "ALESHIA, NADA NAMU              2\n",
       "NAMOU, RAZAK                    1\n",
       "HERMIZ, JACKELINE               1\n",
       "KHAIRO, AMER                    1\n",
       "SHAMMAS, ISAM BAHJAT            1\n",
       "IBRAHIM, WESAM                  1\n",
       "ANSARA, EMIL SUHAIL             1\n",
       "HARRIS, JILL C                  1\n",
       "ALSAIGH, HIKMAT                 1\n",
       "MANI, ADIB Y                    1\n",
       "YOUSIF, LOAY GEORGE             1\n",
       "OHANIAN, SABAH S                1\n",
       "AZABO, MUFID YOUSIF             1\n",
       "TOBIYA, RANI                    1\n",
       "                               ..\n",
       "HABIB, FLORA MATTI              1\n",
       "GORIAL, ISSAM ISSA              1\n",
       "SOMO, SAM                       1\n",
       "HAMANA, FLOUNA FAHMI            1\n",
       "EWDISH, SAAD ISTEPHAN           1\n",
       "TRAN, DAVID                     1\n",
       "AODO, MAHIR SAID                1\n",
       "DO, KHIEM                       1\n",
       "DAWOOD, ZAMAN MICHAEL           1\n",
       "YOUNIS, SAMER  A                1\n",
       "KEKTOMA, ZUHAIR ISSA            1\n",
       "NAJJAR, SAM ANTWAN              1\n",
       "MARCUS, SABAH P                 1\n",
       "BADRANI, CHARIF MAHMOUD         1\n",
       "STEPHAN, MICHAEL ASHAK          1\n",
       "TOBYA, AMER LOOGA               1\n",
       "HABIB, AMIR M                   1\n",
       "SHAMOUN, HANI MICHEL            1\n",
       "SADEK, BASHAR I                 1\n",
       "ALKATIB, FADIA JOHN             1\n",
       "SHAMOON SHOREZ, BASHAR NOEL     1\n",
       "BARTELL HOTELS L-PSHIP          1\n",
       "SOOD, INDU                      1\n",
       "ALKATIB, SINAN JAMIL            1\n",
       "KIDANEMARIAM, DANIEL BERHE      1\n",
       "YOUNAN, BASIM                   1\n",
       "SIMAAN, HAZIM DAWOOD            1\n",
       "BAJOUA, FAHMI M                 1\n",
       "DAWOOD, HAITHAM Y               1\n",
       "YALDO, DAVID S                  1\n",
       "dtype: int64"
      ]
     },
     "execution_count": 28,
     "metadata": {},
     "output_type": "execute_result"
    }
   ],
   "source": [
    "osg.owner.value_counts()"
   ]
  },
  {
   "cell_type": "code",
   "execution_count": 29,
   "metadata": {
    "collapsed": true
   },
   "outputs": [],
   "source": [
    "osg = osg[~osg.owner.str.contains('MARKETS')]"
   ]
  },
  {
   "cell_type": "code",
   "execution_count": 30,
   "metadata": {
    "collapsed": false
   },
   "outputs": [],
   "source": [
    "osg = osg[~osg.owner.str.contains('STORES')]"
   ]
  },
  {
   "cell_type": "code",
   "execution_count": 31,
   "metadata": {
    "collapsed": false
   },
   "outputs": [
    {
     "data": {
      "text/plain": [
       "245"
      ]
     },
     "execution_count": 31,
     "metadata": {},
     "output_type": "execute_result"
    }
   ],
   "source": [
    "len(osg.index)"
   ]
  },
  {
   "cell_type": "code",
   "execution_count": 32,
   "metadata": {
    "collapsed": false
   },
   "outputs": [],
   "source": [
    "osg = osg[~osg.owner.str.contains('MCINERNY')]"
   ]
  },
  {
   "cell_type": "code",
   "execution_count": 33,
   "metadata": {
    "collapsed": false
   },
   "outputs": [
    {
     "data": {
      "text/plain": [
       "222"
      ]
     },
     "execution_count": 33,
     "metadata": {},
     "output_type": "execute_result"
    }
   ],
   "source": [
    "len(osg.owner.unique())"
   ]
  },
  {
   "cell_type": "code",
   "execution_count": 34,
   "metadata": {
    "collapsed": false
   },
   "outputs": [
    {
     "data": {
      "text/plain": [
       "243"
      ]
     },
     "execution_count": 34,
     "metadata": {},
     "output_type": "execute_result"
    }
   ],
   "source": [
    "len(osg.owner)"
   ]
  },
  {
   "cell_type": "code",
   "execution_count": 35,
   "metadata": {
    "collapsed": true
   },
   "outputs": [],
   "source": [
    "osg = osg[~osg.owner.str.contains('CORP')]\n",
    "osg = osg[~osg.owner.str.contains('HOTELS')]\n",
    "osg = osg[~osg.owner.str.contains('SHOP')]"
   ]
  },
  {
   "cell_type": "code",
   "execution_count": null,
   "metadata": {
    "collapsed": true
   },
   "outputs": [],
   "source": []
  },
  {
   "cell_type": "code",
   "execution_count": null,
   "metadata": {
    "collapsed": true
   },
   "outputs": [],
   "source": []
  },
  {
   "cell_type": "code",
   "execution_count": 36,
   "metadata": {
    "collapsed": true
   },
   "outputs": [],
   "source": [
    "osg.to_csv('/Users/damoncrockett/Dropbox/thinkpad_home/SDRDL/abs-licenses/osg.csv')"
   ]
  },
  {
   "cell_type": "code",
   "execution_count": null,
   "metadata": {
    "collapsed": true
   },
   "outputs": [],
   "source": []
  }
 ],
 "metadata": {
  "kernelspec": {
   "display_name": "Python 2",
   "language": "python",
   "name": "python2"
  },
  "language_info": {
   "codemirror_mode": {
    "name": "ipython",
    "version": 2
   },
   "file_extension": ".py",
   "mimetype": "text/x-python",
   "name": "python",
   "nbconvert_exporter": "python",
   "pygments_lexer": "ipython2",
   "version": "2.7.6"
  }
 },
 "nbformat": 4,
 "nbformat_minor": 0
}
